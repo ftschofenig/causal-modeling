{
 "cells": [
  {
   "cell_type": "code",
   "execution_count": null,
   "metadata": {},
   "outputs": [],
   "source": [
    "import matplotlib.pyplot as plt\n",
    "import pandas as pd\n",
    "import seaborn as sns\n",
    "import matplotlib.pyplot as plt\n",
    "import joblib"
   ]
  },
  {
   "cell_type": "code",
   "execution_count": null,
   "metadata": {},
   "outputs": [],
   "source": [
    "# Load the DataFrames from joblib\n",
    "df = joblib.load('df.joblib')"
   ]
  },
  {
   "cell_type": "code",
   "execution_count": null,
   "metadata": {},
   "outputs": [],
   "source": [
    "df_spread_time_deterministic = joblib.load('df_spread_time_deterministic.joblib')\n",
    "df_spread_time_constant = joblib.load('df_spread_time_log_constant.joblib')\n",
    "df_spread_time_first = joblib.load('df_spread_time_log_first.joblib')"
   ]
  },
  {
   "cell_type": "code",
   "execution_count": null,
   "metadata": {},
   "outputs": [],
   "source": [
    "df = df[df['eta'] < 23]"
   ]
  },
  {
   "cell_type": "code",
   "execution_count": null,
   "metadata": {},
   "outputs": [],
   "source": [
    "def compute_proportion_q(df_cur):\n",
    "    df_cur = df_cur[df_cur['Utilization'] != 'N']\n",
    "    pivot_table = df_cur.pivot_table(index='Tie range', columns='Utilization', aggfunc='size', fill_value=0)\n",
    "    pivot_table['Total'] = pivot_table.sum(axis=1)\n",
    "    \n",
    "    # Ensure 'Q' column exists as a Series\n",
    "    if 'Q' not in pivot_table.columns:\n",
    "        pivot_table['Q'] = 0\n",
    "\n",
    "    pivot_table['Proportion_Q'] = pivot_table['Q'] / pivot_table['Total']\n",
    "    pivot_table.reset_index(inplace=True)\n",
    "    return pivot_table[['Tie range', 'Proportion_Q']]\n",
    "\n",
    "\n",
    "\n",
    "# Compute proportions for each model\n",
    "df_d = compute_proportion_q(df[df['Type'] == 'Deterministic'].copy())\n",
    "df_n = compute_proportion_q(df[df['Type'] == 'Constant'].copy())\n",
    "df_i = compute_proportion_q(df[df['Type'] == 'First'].copy())"
   ]
  },
  {
   "cell_type": "code",
   "execution_count": null,
   "metadata": {},
   "outputs": [],
   "source": [
    "COLOR_DETERMINISTIC = '#1f77b4'\n",
    "COLOR_CONSTANT = '#ffa600'\n",
    "COLOR_FIRST = '#ff7c43'"
   ]
  },
  {
   "cell_type": "code",
   "execution_count": null,
   "metadata": {},
   "outputs": [],
   "source": [
    "# Set up the subplots\n",
    "fig, axes = plt.subplots(1, 1, figsize=(7, 4), sharex=True)\n",
    "\n",
    "# Plot for non-ICM\n",
    "sns.histplot(data=df[df['Type'] == 'Constant'], \n",
    "             x='Tie range', \n",
    "             hue='Utilization', \n",
    "             multiple='dodge', \n",
    "             palette=[COLOR_DETERMINISTIC, COLOR_CONSTANT], \n",
    "             edgecolor=\".3\",\n",
    "             linewidth=0.5,\n",
    "             binwidth=1)\n",
    "axes.set_yscale('log')\n",
    "axes.set_title('Edge Utilization - Constant Exposure Subthreshold', fontweight='bold', fontsize=13)\n",
    "axes.legend(labels=['Constant Exposure Subthreshold', 'Deterministic Activation'], frameon=False)\n",
    "axes.set_xlim(0, 40)\n",
    "\n",
    "# Common x-label\n",
    "axes.set_xlabel('Tie range')\n",
    "plt.tight_layout()\n",
    "plt.grid(False)\n",
    "\n",
    "# Save the figure\n",
    "plt.savefig('histogram_non_ICM.png', dpi=300)\n",
    "plt.show()\n"
   ]
  },
  {
   "cell_type": "code",
   "execution_count": null,
   "metadata": {},
   "outputs": [],
   "source": [
    "# Set up the subplots\n",
    "fig, axes = plt.subplots(1, 1, figsize=(7, 4), sharex=True)\n",
    "\n",
    "# Plot for ICM\n",
    "sns.histplot(data=df[df['Type'] == 'First'], \n",
    "             x='Tie range', \n",
    "             hue='Utilization', \n",
    "             multiple='dodge', \n",
    "             palette=[COLOR_DETERMINISTIC, COLOR_FIRST], \n",
    "             edgecolor=\".3\",\n",
    "             linewidth=0.5,\n",
    "             binwidth=1)\n",
    "axes.set_yscale('log')\n",
    "axes.set_title('Edge Utilization - First Exposure Subthreshold', fontweight='bold', fontsize=13)\n",
    "axes.legend(labels=['First Exposure Subthreshold', 'Deterministic Activation'], frameon=False)\n",
    "\n",
    "# Common x-label\n",
    "axes.set_xlabel('Tie range')\n",
    "axes.set_xlim(0, 40)\n",
    "plt.tight_layout()\n",
    "plt.grid(False)\n",
    "\n",
    "# Save the figure\n",
    "plt.savefig('histogram_ICM.png', dpi=300)\n",
    "plt.show()\n"
   ]
  },
  {
   "cell_type": "code",
   "execution_count": null,
   "metadata": {},
   "outputs": [],
   "source": [
    "df_spread_time_deterministic_kde = df_spread_time_deterministic[df_spread_time_deterministic['eta'] < 23].copy()\n",
    "df_spread_time_constant_kde = df_spread_time_constant[df_spread_time_constant['eta'] < 23].copy()\n",
    "df_spread_time_first_kde = df_spread_time_first[df_spread_time_first['eta'] < 23].copy()\n",
    "\n",
    "# Plot\n",
    "plt.figure(figsize=(7, 4))\n",
    "\n",
    "# KDE curves (with labels)\n",
    "sns.kdeplot(df_spread_time_deterministic_kde['Spread_time_90'],\n",
    "            label='Deterministic',\n",
    "            color=COLOR_DETERMINISTIC,\n",
    "            linewidth=2,\n",
    "            clip=(0, 500))\n",
    "\n",
    "sns.kdeplot(df_spread_time_constant_kde['Spread_time_90'],\n",
    "            label='Constant Exposure Subthreshold',\n",
    "            color=COLOR_CONSTANT,\n",
    "            linewidth=2,\n",
    "            clip=(0, 500))\n",
    "\n",
    "sns.kdeplot(df_spread_time_first_kde['Spread_time_90'],\n",
    "            label='First Exposure Subthreshold',\n",
    "            color=COLOR_FIRST,\n",
    "            linewidth=2,\n",
    "            clip=(0, 500))\n",
    "\n",
    "\n",
    "# Labels and title\n",
    "plt.xlabel('Time to Reach 90% Activation', fontsize=11)\n",
    "plt.ylabel('Density', fontsize=11)\n",
    "plt.title('Spread Time Distributions Across Models', fontweight='bold', fontsize=13)\n",
    "\n",
    "# Legend without the dashed lines\n",
    "plt.legend(loc='upper right', frameon=False, bbox_to_anchor=(1, 1))\n",
    "plt.grid(False)\n",
    "\n",
    "\n",
    "plt.tight_layout()\n",
    "plt.savefig('spread_time_distribution.png', dpi=300, bbox_inches='tight')\n",
    "plt.show()\n"
   ]
  }
 ],
 "metadata": {
  "kernelspec": {
   "display_name": "base",
   "language": "python",
   "name": "python3"
  },
  "language_info": {
   "codemirror_mode": {
    "name": "ipython",
    "version": 3
   },
   "file_extension": ".py",
   "mimetype": "text/x-python",
   "name": "python",
   "nbconvert_exporter": "python",
   "pygments_lexer": "ipython3",
   "version": "3.12.2"
  }
 },
 "nbformat": 4,
 "nbformat_minor": 2
}
