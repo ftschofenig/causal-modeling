{
 "cells": [
  {
   "cell_type": "code",
   "execution_count": null,
   "metadata": {},
   "outputs": [],
   "source": [
    "import matplotlib.pyplot as plt\n",
    "import pandas as pd\n",
    "import seaborn as sns\n",
    "import matplotlib.pyplot as plt\n",
    "import joblib"
   ]
  },
  {
   "cell_type": "code",
   "execution_count": null,
   "metadata": {},
   "outputs": [],
   "source": [
    "# Load the DataFrames from joblib\n",
    "df = joblib.load('df.joblib')"
   ]
  },
  {
   "cell_type": "code",
   "execution_count": null,
   "metadata": {},
   "outputs": [],
   "source": [
    "df_spread_time_deterministic = joblib.load('df_spread_time_deterministic.joblib')\n",
    "df_spread_time_constant = joblib.load('df_spread_time_log_constant.joblib')\n",
    "df_spread_time_first = joblib.load('df_spread_time_log_first.joblib')\n",
    "df_spread_time_symmetric_constant = joblib.load('df_spread_time_symmetric_constant.joblib')\n",
    "df_spread_time_symmetric_first = joblib.load('df_spread_time_symmetric_first.joblib')"
   ]
  },
  {
   "cell_type": "code",
   "execution_count": null,
   "metadata": {},
   "outputs": [],
   "source": [
    "def compute_proportion_q(df_cur):\n",
    "    df_cur = df_cur[df_cur['Utilization'] != 'N']\n",
    "    pivot_table = df_cur.pivot_table(index='Tie range', columns='Utilization', aggfunc='size', fill_value=0)\n",
    "    pivot_table['Total'] = pivot_table.sum(axis=1)\n",
    "    \n",
    "    # Ensure 'Q' column exists as a Series\n",
    "    if 'Q' not in pivot_table.columns:\n",
    "        pivot_table['Q'] = 0\n",
    "\n",
    "    pivot_table['Proportion_Q'] = pivot_table['Q'] / pivot_table['Total']\n",
    "    pivot_table.reset_index(inplace=True)\n",
    "    return pivot_table[['Tie range', 'Proportion_Q']]\n",
    "\n",
    "\n",
    "\n",
    "# Compute proportions for each model\n",
    "df_d = compute_proportion_q(df[df['Type'] == 'GI'].copy())\n",
    "df_n = compute_proportion_q(df[df['Type'] == 'CONSTANT'].copy())\n",
    "df_i = compute_proportion_q(df[df['Type'] == 'FIRST'].copy())\n",
    "df_s_constant = compute_proportion_q(df[df['Type'] == 'SYMMETRIC_CONSTANT'].copy())\n",
    "df_s_first = compute_proportion_q(df[df['Type'] == 'SYMMETRIC_FIRST'].copy())"
   ]
  },
  {
   "cell_type": "code",
   "execution_count": null,
   "metadata": {},
   "outputs": [],
   "source": [
    "COLOR_DETERMINISTIC = '#0072B2'  # deep blue\n",
    "COLOR_CONSTANT =      '#D55E00'  # orange-red\n",
    "COLOR_FIRST =         '#CC79A7'  # pink-magenta\n",
    "COLOR_SYMMETRIC_CONSTANT = '#009E73'  # teal green"
   ]
  },
  {
   "cell_type": "code",
   "execution_count": null,
   "metadata": {},
   "outputs": [],
   "source": [
    "# Set up the subplots\n",
    "fig, axes = plt.subplots(1, 1, figsize=(7, 4), sharex=True)\n",
    "\n",
    "# Plot for non-ICM\n",
    "sns.histplot(data=df[df['Type'] == 'CONSTANT'], \n",
    "             x='Tie range', \n",
    "             hue='Utilization', \n",
    "             multiple='dodge', \n",
    "             palette=[COLOR_DETERMINISTIC, COLOR_CONSTANT], \n",
    "             edgecolor=\".3\",\n",
    "             linewidth=0.5,\n",
    "             binwidth=1)\n",
    "axes.set_yscale('log')\n",
    "#axes.set_title('Edge Utilization - Constant Exposure Subthreshold', fontweight='bold', fontsize=13)\n",
    "axes.legend(labels=['Continual + Asymmetric Noise', 'Deterministic'], frameon=False)\n",
    "axes.set_xlim(0, 40)\n",
    "\n",
    "# Highlight empirically representative region\n",
    "axes.axvspan(0, 15, color='green', alpha=0.1)\n",
    "axes.text(5, 1.5e6, 'empirically\\nrepresentative', color='green', fontsize=10, fontweight='bold')\n",
    "\n",
    "# Common x-label\n",
    "axes.set_xlabel('Tie range')\n",
    "plt.tight_layout()\n",
    "plt.grid(False)\n",
    "\n",
    "# Save the figure\n",
    "plt.savefig('histogram_non_ICM.png', dpi=300)\n",
    "plt.show()\n"
   ]
  },
  {
   "cell_type": "code",
   "execution_count": null,
   "metadata": {},
   "outputs": [],
   "source": [
    "# Set up the subplots\n",
    "fig, axes = plt.subplots(1, 1, figsize=(7, 4), sharex=True)\n",
    "\n",
    "# Plot for ICM\n",
    "sns.histplot(data=df[df['Type'] == 'FIRST'], \n",
    "             x='Tie range', \n",
    "             hue='Utilization', \n",
    "             multiple='dodge', \n",
    "             palette=[COLOR_DETERMINISTIC, COLOR_FIRST], \n",
    "             edgecolor=\".3\",\n",
    "             linewidth=0.5,\n",
    "             binwidth=1)\n",
    "axes.set_yscale('log')\n",
    "#axes.set_title('Edge Utilization - First Exposure Subthreshold', fontweight='bold', fontsize=13)\n",
    "axes.legend(labels=['One-shot + Asymmetric Noise', 'Deterministic'], frameon=False)\n",
    "\n",
    "# Common x-label\n",
    "axes.set_xlabel('Tie range')\n",
    "axes.set_xlim(0, 40) \n",
    "plt.tight_layout()\n",
    "plt.grid(False)\n",
    "\n",
    "# Highlight empirically representative region\n",
    "axes.axvspan(0, 15, color='green', alpha=0.1)\n",
    "axes.text(5, 1.5e6, 'empirically\\nrepresentative', color='green', fontsize=10, fontweight='bold')\n",
    "\n",
    "\n",
    "# Save the figure\n",
    "plt.savefig('histogram_ICM.png', dpi=300)\n",
    "plt.show()\n"
   ]
  },
  {
   "cell_type": "code",
   "execution_count": null,
   "metadata": {},
   "outputs": [],
   "source": [
    "df_spread_time_deterministic_kde = df_spread_time_deterministic[df_spread_time_deterministic['eta'] < 23].copy()\n",
    "df_spread_time_constant_kde = df_spread_time_constant[df_spread_time_constant['eta'] < 23].copy()\n",
    "df_spread_time_first_kde = df_spread_time_first[df_spread_time_first['eta'] < 23].copy()\n",
    "df_spread_time_symmetric_constant_kde = df_spread_time_symmetric_constant[df_spread_time_symmetric_constant['eta'] < 23].copy()\n",
    "df_spread_time_symmetric_first_kde = df_spread_time_symmetric_first[df_spread_time_symmetric_first['eta'] < 23].copy()"
   ]
  },
  {
   "cell_type": "code",
   "execution_count": null,
   "metadata": {},
   "outputs": [],
   "source": [
    "# Plot\n",
    "plt.figure(figsize=(7, 4))\n",
    "\n",
    "# KDE curves (with labels)\n",
    "sns.kdeplot(df_spread_time_deterministic_kde['Spread_time_90'],\n",
    "            label='Deterministic',\n",
    "            color=COLOR_DETERMINISTIC,\n",
    "            linewidth=2,\n",
    "            clip=(0, 500))\n",
    "\n",
    "sns.kdeplot(df_spread_time_constant_kde['Spread_time_90'],\n",
    "            label='Continual + Asymmetric Noise',\n",
    "            color=COLOR_CONSTANT,\n",
    "            linewidth=2,\n",
    "            clip=(0, 500))\n",
    "\n",
    "sns.kdeplot(df_spread_time_first_kde['Spread_time_90'],\n",
    "            label='One-shot + Asymmetric Noise',\n",
    "            color=COLOR_FIRST,\n",
    "            linewidth=2,\n",
    "            clip=(0, 500))\n",
    "\n",
    "sns.kdeplot(df_spread_time_symmetric_constant_kde['Spread_time_90'],\n",
    "            label='Continual + Symmetric Noise',\n",
    "            color=COLOR_SYMMETRIC_CONSTANT,\n",
    "            linewidth=2,\n",
    "            clip=(0, 500))\n",
    "\n",
    "#sns.kdeplot(df_spread_time_symmetric_first_kde['Spread_time_90'],\n",
    "#            label='One-shot + Symmetric Noise',\n",
    "#            color=COLOR_SYMMETRIC_FIRST,\n",
    "#            linewidth=2,\n",
    "#            clip=(0, 500))\n",
    "\n",
    "\n",
    "# Labels and title\n",
    "plt.xlabel('Time to Reach 90% Activation', fontsize=11)\n",
    "plt.ylabel('Density', fontsize=11)\n",
    "#plt.title('Spread Time Distributions Across Models', fontweight='bold', fontsize=13)\n",
    "\n",
    "# Legend without the dashed lines\n",
    "plt.legend(loc='upper right', frameon=False, bbox_to_anchor=(1.01, 1))\n",
    "plt.grid(False)\n",
    "\n",
    "\n",
    "plt.tight_layout()\n",
    "plt.savefig('spread_time_distribution.png', dpi=300, bbox_inches='tight')\n",
    "plt.show()\n"
   ]
  },
  {
   "cell_type": "code",
   "execution_count": null,
   "metadata": {},
   "outputs": [],
   "source": [
    "#calculate the averages for each model\n",
    "print(df_spread_time_deterministic_kde['Spread_time_90'].mean())\n",
    "print(df_spread_time_constant_kde['Spread_time_90'].mean())\n",
    "print(df_spread_time_first_kde['Spread_time_90'].mean())\n",
    "print(df_spread_time_symmetric_constant_kde['Spread_time_90'].mean())\n",
    "print(df_spread_time_symmetric_first_kde['Spread_time_90'].mean())\n"
   ]
  }
 ],
 "metadata": {
  "kernelspec": {
   "display_name": "base",
   "language": "python",
   "name": "python3"
  },
  "language_info": {
   "codemirror_mode": {
    "name": "ipython",
    "version": 3
   },
   "file_extension": ".py",
   "mimetype": "text/x-python",
   "name": "python",
   "nbconvert_exporter": "python",
   "pygments_lexer": "ipython3",
   "version": "3.12.2"
  }
 },
 "nbformat": 4,
 "nbformat_minor": 2
}
